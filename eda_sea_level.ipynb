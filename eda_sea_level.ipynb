{
 "cells": [
  {
   "cell_type": "code",
   "execution_count": 2,
   "metadata": {},
   "outputs": [],
   "source": [
    "using CSV, DataFrames, Dates\n",
    "# using PyCall\n",
    "# using CairoMakie\n",
    "# using StatsBase\n",
    "\n",
    "# @pyimport powerlaw as powlaw\n",
    "# so = pyimport(\"scipy.optimize\")"
   ]
  },
  {
   "cell_type": "code",
   "execution_count": 3,
   "metadata": {},
   "outputs": [
    {
     "data": {
      "text/plain": [
       "\"sea_level\""
      ]
     },
     "metadata": {},
     "output_type": "display_data"
    }
   ],
   "source": [
    "data_in_question = \"hourly_sea_level_original\"\n",
    "datetime = \"datetime\"\n",
    "variable = \"sea_level\""
   ]
  },
  {
   "cell_type": "code",
   "execution_count": 4,
   "metadata": {},
   "outputs": [],
   "source": [
    "path = \"./data/\"\n",
    "filepath = path * data_in_question * \".csv\"\n",
    "df = CSV.read(filepath, DataFrame);"
   ]
  },
  {
   "cell_type": "code",
   "execution_count": 5,
   "metadata": {},
   "outputs": [],
   "source": [
    "rename!(df, [\"SEA LEVEL HEIGHT(cm above TG zero)\", \"FLAG(0=observed/1=approximate/2=estimated by interpolation/5=reconstructed from nearby station)\"] .=>  \n",
    "            [\"sea_level\", \"flag\"])\n",
    "\n",
    "transform!(df, [\"DATE\", \"TIME(UTC+1)\"]  => ByRow((A, B) -> string(A, \" \", B)) => \"datetime\")\n",
    "select!(df, Not([\"DATE\", \"TIME(UTC+1)\"]));\n"
   ]
  },
  {
   "cell_type": "code",
   "execution_count": 6,
   "metadata": {},
   "outputs": [
    {
     "data": {
      "text/html": [
       "<div><div style = \"float: left;\"><span>1034377×3 DataFrame</span></div><div style = \"float: right;\"><span style = \"font-style: italic;\">1034352 rows omitted</span></div><div style = \"clear: both;\"></div></div><div class = \"data-frame\" style = \"overflow-x: scroll;\"><table class = \"data-frame\" style = \"margin-bottom: 6px;\"><thead><tr class = \"header\"><th class = \"rowNumber\" style = \"font-weight: bold; text-align: right;\">Row</th><th style = \"text-align: left;\">sea_level</th><th style = \"text-align: left;\">flag</th><th style = \"text-align: left;\">datetime</th></tr><tr class = \"subheader headerLastRow\"><th class = \"rowNumber\" style = \"font-weight: bold; text-align: right;\"></th><th title = \"Union{Missing, Float64}\" style = \"text-align: left;\">Float64?</th><th title = \"Union{Missing, Int64}\" style = \"text-align: left;\">Int64?</th><th title = \"String\" style = \"text-align: left;\">String</th></tr></thead><tbody><tr><td class = \"rowNumber\" style = \"font-weight: bold; text-align: right;\">1</td><td style = \"font-style: italic; text-align: right;\">missing</td><td style = \"font-style: italic; text-align: right;\">missing</td><td style = \"text-align: left;\">01/01/1905 00:00:00</td></tr><tr><td class = \"rowNumber\" style = \"font-weight: bold; text-align: right;\">2</td><td style = \"text-align: right;\">122.7</td><td style = \"text-align: right;\">0</td><td style = \"text-align: left;\">01/01/1905 01:00:00</td></tr><tr><td class = \"rowNumber\" style = \"font-weight: bold; text-align: right;\">3</td><td style = \"text-align: right;\">135.7</td><td style = \"text-align: right;\">0</td><td style = \"text-align: left;\">01/01/1905 02:00:00</td></tr><tr><td class = \"rowNumber\" style = \"font-weight: bold; text-align: right;\">4</td><td style = \"text-align: right;\">158.7</td><td style = \"text-align: right;\">0</td><td style = \"text-align: left;\">01/01/1905 03:00:00</td></tr><tr><td class = \"rowNumber\" style = \"font-weight: bold; text-align: right;\">5</td><td style = \"text-align: right;\">175.7</td><td style = \"text-align: right;\">0</td><td style = \"text-align: left;\">01/01/1905 04:00:00</td></tr><tr><td class = \"rowNumber\" style = \"font-weight: bold; text-align: right;\">6</td><td style = \"text-align: right;\">178.7</td><td style = \"text-align: right;\">0</td><td style = \"text-align: left;\">01/01/1905 05:00:00</td></tr><tr><td class = \"rowNumber\" style = \"font-weight: bold; text-align: right;\">7</td><td style = \"text-align: right;\">179.7</td><td style = \"text-align: right;\">0</td><td style = \"text-align: left;\">01/01/1905 06:00:00</td></tr><tr><td class = \"rowNumber\" style = \"font-weight: bold; text-align: right;\">8</td><td style = \"text-align: right;\">178.7</td><td style = \"text-align: right;\">0</td><td style = \"text-align: left;\">01/01/1905 07:00:00</td></tr><tr><td class = \"rowNumber\" style = \"font-weight: bold; text-align: right;\">9</td><td style = \"text-align: right;\">158.7</td><td style = \"text-align: right;\">0</td><td style = \"text-align: left;\">01/01/1905 08:00:00</td></tr><tr><td class = \"rowNumber\" style = \"font-weight: bold; text-align: right;\">10</td><td style = \"text-align: right;\">136.7</td><td style = \"text-align: right;\">0</td><td style = \"text-align: left;\">01/01/1905 09:00:00</td></tr><tr><td class = \"rowNumber\" style = \"font-weight: bold; text-align: right;\">11</td><td style = \"text-align: right;\">118.7</td><td style = \"text-align: right;\">0</td><td style = \"text-align: left;\">01/01/1905 10:00:00</td></tr><tr><td class = \"rowNumber\" style = \"font-weight: bold; text-align: right;\">12</td><td style = \"text-align: right;\">101.7</td><td style = \"text-align: right;\">0</td><td style = \"text-align: left;\">01/01/1905 11:00:00</td></tr><tr><td class = \"rowNumber\" style = \"font-weight: bold; text-align: right;\">13</td><td style = \"text-align: right;\">88.7</td><td style = \"text-align: right;\">0</td><td style = \"text-align: left;\">01/01/1905 12:00:00</td></tr><tr><td style = \"text-align: right;\">&vellip;</td><td style = \"text-align: right;\">&vellip;</td><td style = \"text-align: right;\">&vellip;</td><td style = \"text-align: right;\">&vellip;</td></tr><tr><td class = \"rowNumber\" style = \"font-weight: bold; text-align: right;\">1034366</td><td style = \"text-align: right;\">137.0</td><td style = \"text-align: right;\">0</td><td style = \"text-align: left;\">31/12/2022 13:00:00</td></tr><tr><td class = \"rowNumber\" style = \"font-weight: bold; text-align: right;\">1034367</td><td style = \"text-align: right;\">143.0</td><td style = \"text-align: right;\">0</td><td style = \"text-align: left;\">31/12/2022 14:00:00</td></tr><tr><td class = \"rowNumber\" style = \"font-weight: bold; text-align: right;\">1034368</td><td style = \"text-align: right;\">147.0</td><td style = \"text-align: right;\">0</td><td style = \"text-align: left;\">31/12/2022 15:00:00</td></tr><tr><td class = \"rowNumber\" style = \"font-weight: bold; text-align: right;\">1034369</td><td style = \"text-align: right;\">152.0</td><td style = \"text-align: right;\">0</td><td style = \"text-align: left;\">31/12/2022 16:00:00</td></tr><tr><td class = \"rowNumber\" style = \"font-weight: bold; text-align: right;\">1034370</td><td style = \"text-align: right;\">155.0</td><td style = \"text-align: right;\">0</td><td style = \"text-align: left;\">31/12/2022 17:00:00</td></tr><tr><td class = \"rowNumber\" style = \"font-weight: bold; text-align: right;\">1034371</td><td style = \"text-align: right;\">159.0</td><td style = \"text-align: right;\">0</td><td style = \"text-align: left;\">31/12/2022 18:00:00</td></tr><tr><td class = \"rowNumber\" style = \"font-weight: bold; text-align: right;\">1034372</td><td style = \"text-align: right;\">159.0</td><td style = \"text-align: right;\">0</td><td style = \"text-align: left;\">31/12/2022 19:00:00</td></tr><tr><td class = \"rowNumber\" style = \"font-weight: bold; text-align: right;\">1034373</td><td style = \"text-align: right;\">152.0</td><td style = \"text-align: right;\">0</td><td style = \"text-align: left;\">31/12/2022 20:00:00</td></tr><tr><td class = \"rowNumber\" style = \"font-weight: bold; text-align: right;\">1034374</td><td style = \"text-align: right;\">151.0</td><td style = \"text-align: right;\">0</td><td style = \"text-align: left;\">31/12/2022 21:00:00</td></tr><tr><td class = \"rowNumber\" style = \"font-weight: bold; text-align: right;\">1034375</td><td style = \"text-align: right;\">150.0</td><td style = \"text-align: right;\">0</td><td style = \"text-align: left;\">31/12/2022 22:00:00</td></tr><tr><td class = \"rowNumber\" style = \"font-weight: bold; text-align: right;\">1034376</td><td style = \"text-align: right;\">152.0</td><td style = \"text-align: right;\">0</td><td style = \"text-align: left;\">31/12/2022 23:00:00</td></tr><tr><td class = \"rowNumber\" style = \"font-weight: bold; text-align: right;\">1034377</td><td style = \"text-align: right;\">160.0</td><td style = \"text-align: right;\">0</td><td style = \"text-align: left;\">01/01/2023 00:00:00</td></tr></tbody></table></div>"
      ],
      "text/latex": [
       "\\begin{tabular}{r|ccc}\n",
       "\t& sea\\_level & flag & datetime\\\\\n",
       "\t\\hline\n",
       "\t& Float64? & Int64? & String\\\\\n",
       "\t\\hline\n",
       "\t1 & \\emph{missing} & \\emph{missing} & 01/01/1905 00:00:00 \\\\\n",
       "\t2 & 122.7 & 0 & 01/01/1905 01:00:00 \\\\\n",
       "\t3 & 135.7 & 0 & 01/01/1905 02:00:00 \\\\\n",
       "\t4 & 158.7 & 0 & 01/01/1905 03:00:00 \\\\\n",
       "\t5 & 175.7 & 0 & 01/01/1905 04:00:00 \\\\\n",
       "\t6 & 178.7 & 0 & 01/01/1905 05:00:00 \\\\\n",
       "\t7 & 179.7 & 0 & 01/01/1905 06:00:00 \\\\\n",
       "\t8 & 178.7 & 0 & 01/01/1905 07:00:00 \\\\\n",
       "\t9 & 158.7 & 0 & 01/01/1905 08:00:00 \\\\\n",
       "\t10 & 136.7 & 0 & 01/01/1905 09:00:00 \\\\\n",
       "\t11 & 118.7 & 0 & 01/01/1905 10:00:00 \\\\\n",
       "\t12 & 101.7 & 0 & 01/01/1905 11:00:00 \\\\\n",
       "\t13 & 88.7 & 0 & 01/01/1905 12:00:00 \\\\\n",
       "\t14 & 88.7 & 0 & 01/01/1905 13:00:00 \\\\\n",
       "\t15 & 93.7 & 0 & 01/01/1905 14:00:00 \\\\\n",
       "\t16 & 100.7 & 0 & 01/01/1905 15:00:00 \\\\\n",
       "\t17 & 104.7 & 0 & 01/01/1905 16:00:00 \\\\\n",
       "\t18 & 106.7 & 0 & 01/01/1905 17:00:00 \\\\\n",
       "\t19 & 120.7 & 0 & 01/01/1905 18:00:00 \\\\\n",
       "\t20 & 122.7 & 0 & 01/01/1905 19:00:00 \\\\\n",
       "\t21 & 118.7 & 0 & 01/01/1905 20:00:00 \\\\\n",
       "\t22 & 115.7 & 0 & 01/01/1905 21:00:00 \\\\\n",
       "\t23 & 110.7 & 0 & 01/01/1905 22:00:00 \\\\\n",
       "\t24 & 102.7 & 0 & 01/01/1905 23:00:00 \\\\\n",
       "\t$\\dots$ & $\\dots$ & $\\dots$ & $\\dots$ \\\\\n",
       "\\end{tabular}\n"
      ],
      "text/plain": [
       "\u001b[1m1034377×3 DataFrame\u001b[0m\n",
       "\u001b[1m     Row \u001b[0m│\u001b[1m sea_level \u001b[0m\u001b[1m flag    \u001b[0m\u001b[1m datetime            \u001b[0m\n",
       "         │\u001b[90m Float64?  \u001b[0m\u001b[90m Int64?  \u001b[0m\u001b[90m String              \u001b[0m\n",
       "─────────┼─────────────────────────────────────────\n",
       "       1 │\u001b[90m missing   \u001b[0m\u001b[90m missing \u001b[0m 01/01/1905 00:00:00\n",
       "       2 │     122.7        0  01/01/1905 01:00:00\n",
       "       3 │     135.7        0  01/01/1905 02:00:00\n",
       "       4 │     158.7        0  01/01/1905 03:00:00\n",
       "       5 │     175.7        0  01/01/1905 04:00:00\n",
       "       6 │     178.7        0  01/01/1905 05:00:00\n",
       "       7 │     179.7        0  01/01/1905 06:00:00\n",
       "       8 │     178.7        0  01/01/1905 07:00:00\n",
       "    ⋮    │     ⋮         ⋮              ⋮\n",
       " 1034371 │     159.0        0  31/12/2022 18:00:00\n",
       " 1034372 │     159.0        0  31/12/2022 19:00:00\n",
       " 1034373 │     152.0        0  31/12/2022 20:00:00\n",
       " 1034374 │     151.0        0  31/12/2022 21:00:00\n",
       " 1034375 │     150.0        0  31/12/2022 22:00:00\n",
       " 1034376 │     152.0        0  31/12/2022 23:00:00\n",
       " 1034377 │     160.0        0  01/01/2023 00:00:00\n",
       "\u001b[36m                               1034362 rows omitted\u001b[0m"
      ]
     },
     "metadata": {},
     "output_type": "display_data"
    }
   ],
   "source": [
    "df"
   ]
  },
  {
   "cell_type": "code",
   "execution_count": 7,
   "metadata": {},
   "outputs": [
    {
     "data": {
      "text/html": [
       "<div><div style = \"float: left;\"><span>3×7 DataFrame</span></div><div style = \"clear: both;\"></div></div><div class = \"data-frame\" style = \"overflow-x: scroll;\"><table class = \"data-frame\" style = \"margin-bottom: 6px;\"><thead><tr class = \"header\"><th class = \"rowNumber\" style = \"font-weight: bold; text-align: right;\">Row</th><th style = \"text-align: left;\">variable</th><th style = \"text-align: left;\">mean</th><th style = \"text-align: left;\">min</th><th style = \"text-align: left;\">median</th><th style = \"text-align: left;\">max</th><th style = \"text-align: left;\">nmissing</th><th style = \"text-align: left;\">eltype</th></tr><tr class = \"subheader headerLastRow\"><th class = \"rowNumber\" style = \"font-weight: bold; text-align: right;\"></th><th title = \"Symbol\" style = \"text-align: left;\">Symbol</th><th title = \"Union{Nothing, Float64}\" style = \"text-align: left;\">Union…</th><th title = \"Any\" style = \"text-align: left;\">Any</th><th title = \"Union{Nothing, Float64}\" style = \"text-align: left;\">Union…</th><th title = \"Any\" style = \"text-align: left;\">Any</th><th title = \"Int64\" style = \"text-align: left;\">Int64</th><th title = \"Type\" style = \"text-align: left;\">Type</th></tr></thead><tbody><tr><td class = \"rowNumber\" style = \"font-weight: bold; text-align: right;\">1</td><td style = \"text-align: left;\">sea_level</td><td style = \"text-align: left;\">160.259</td><td style = \"text-align: left;\">19.0</td><td style = \"text-align: left;\">161.0</td><td style = \"text-align: left;\">344.0</td><td style = \"text-align: right;\">44764</td><td style = \"text-align: left;\">Union{Missing, Float64}</td></tr><tr><td class = \"rowNumber\" style = \"font-weight: bold; text-align: right;\">2</td><td style = \"text-align: left;\">flag</td><td style = \"text-align: left;\">0.0313789</td><td style = \"text-align: left;\">0</td><td style = \"text-align: left;\">0.0</td><td style = \"text-align: left;\">5</td><td style = \"text-align: right;\">44764</td><td style = \"text-align: left;\">Union{Missing, Int64}</td></tr><tr><td class = \"rowNumber\" style = \"font-weight: bold; text-align: right;\">3</td><td style = \"text-align: left;\">datetime</td><td style = \"font-style: italic; text-align: left;\"></td><td style = \"text-align: left;\">01/01/1905 00:00:00</td><td style = \"font-style: italic; text-align: left;\"></td><td style = \"text-align: left;\">31/12/2022 23:00:00</td><td style = \"text-align: right;\">0</td><td style = \"text-align: left;\">String</td></tr></tbody></table></div>"
      ],
      "text/latex": [
       "\\begin{tabular}{r|ccccccc}\n",
       "\t& variable & mean & min & median & max & nmissing & \\\\\n",
       "\t\\hline\n",
       "\t& Symbol & Union… & Any & Union… & Any & Int64 & \\\\\n",
       "\t\\hline\n",
       "\t1 & sea\\_level & 160.259 & 19.0 & 161.0 & 344.0 & 44764 & $\\dots$ \\\\\n",
       "\t2 & flag & 0.0313789 & 0 & 0.0 & 5 & 44764 & $\\dots$ \\\\\n",
       "\t3 & datetime &  & 01/01/1905 00:00:00 &  & 31/12/2022 23:00:00 & 0 & $\\dots$ \\\\\n",
       "\\end{tabular}\n"
      ],
      "text/plain": [
       "\u001b[1m3×7 DataFrame\u001b[0m\n",
       "\u001b[1m Row \u001b[0m│\u001b[1m variable  \u001b[0m\u001b[1m mean      \u001b[0m\u001b[1m min                 \u001b[0m\u001b[1m median \u001b[0m\u001b[1m max                 \u001b[0m\u001b[1m\u001b[0m ⋯\n",
       "     │\u001b[90m Symbol    \u001b[0m\u001b[90m Union…    \u001b[0m\u001b[90m Any                 \u001b[0m\u001b[90m Union… \u001b[0m\u001b[90m Any                 \u001b[0m\u001b[90m\u001b[0m ⋯\n",
       "─────┼──────────────────────────────────────────────────────────────────────────\n",
       "   1 │ sea_level  160.259    19.0                 161.0   344.0                ⋯\n",
       "   2 │ flag       0.0313789  0                    0.0     5\n",
       "   3 │ datetime  \u001b[90m           \u001b[0m 01/01/1905 00:00:00 \u001b[90m        \u001b[0m 31/12/2022 23:00:00\n",
       "\u001b[36m                                                               2 columns omitted\u001b[0m"
      ]
     },
     "metadata": {},
     "output_type": "display_data"
    }
   ],
   "source": [
    "describe(df)"
   ]
  },
  {
   "cell_type": "code",
   "execution_count": 8,
   "metadata": {},
   "outputs": [
    {
     "data": {
      "text/html": [
       "<div><div style = \"float: left;\"><span>5×2 DataFrame</span></div><div style = \"clear: both;\"></div></div><div class = \"data-frame\" style = \"overflow-x: scroll;\"><table class = \"data-frame\" style = \"margin-bottom: 6px;\"><thead><tr class = \"header\"><th class = \"rowNumber\" style = \"font-weight: bold; text-align: right;\">Row</th><th style = \"text-align: left;\">flag</th><th style = \"text-align: left;\">nrow</th></tr><tr class = \"subheader headerLastRow\"><th class = \"rowNumber\" style = \"font-weight: bold; text-align: right;\"></th><th title = \"Union{Missing, Int64}\" style = \"text-align: left;\">Int64?</th><th title = \"Int64\" style = \"text-align: left;\">Int64</th></tr></thead><tbody><tr><td class = \"rowNumber\" style = \"font-weight: bold; text-align: right;\">1</td><td style = \"text-align: right;\">0</td><td style = \"text-align: right;\">980827</td></tr><tr><td class = \"rowNumber\" style = \"font-weight: bold; text-align: right;\">2</td><td style = \"text-align: right;\">1</td><td style = \"text-align: right;\">571</td></tr><tr><td class = \"rowNumber\" style = \"font-weight: bold; text-align: right;\">3</td><td style = \"text-align: right;\">2</td><td style = \"text-align: right;\">3531</td></tr><tr><td class = \"rowNumber\" style = \"font-weight: bold; text-align: right;\">4</td><td style = \"text-align: right;\">5</td><td style = \"text-align: right;\">4684</td></tr><tr><td class = \"rowNumber\" style = \"font-weight: bold; text-align: right;\">5</td><td style = \"font-style: italic; text-align: right;\">missing</td><td style = \"text-align: right;\">44764</td></tr></tbody></table></div>"
      ],
      "text/latex": [
       "\\begin{tabular}{r|cc}\n",
       "\t& flag & nrow\\\\\n",
       "\t\\hline\n",
       "\t& Int64? & Int64\\\\\n",
       "\t\\hline\n",
       "\t1 & 0 & 980827 \\\\\n",
       "\t2 & 1 & 571 \\\\\n",
       "\t3 & 2 & 3531 \\\\\n",
       "\t4 & 5 & 4684 \\\\\n",
       "\t5 & \\emph{missing} & 44764 \\\\\n",
       "\\end{tabular}\n"
      ],
      "text/plain": [
       "\u001b[1m5×2 DataFrame\u001b[0m\n",
       "\u001b[1m Row \u001b[0m│\u001b[1m flag    \u001b[0m\u001b[1m nrow   \u001b[0m\n",
       "     │\u001b[90m Int64?  \u001b[0m\u001b[90m Int64  \u001b[0m\n",
       "─────┼─────────────────\n",
       "   1 │       0  980827\n",
       "   2 │       1     571\n",
       "   3 │       2    3531\n",
       "   4 │       5    4684\n",
       "   5 │\u001b[90m missing \u001b[0m  44764"
      ]
     },
     "metadata": {},
     "output_type": "display_data"
    }
   ],
   "source": [
    "df1 = combine(groupby(df, :flag, sort=true), nrow)"
   ]
  },
  {
   "cell_type": "code",
   "execution_count": null,
   "metadata": {},
   "outputs": [],
   "source": []
  }
 ],
 "metadata": {
  "kernelspec": {
   "display_name": "Julia 1.9.4",
   "language": "julia",
   "name": "julia-1.9"
  },
  "language_info": {
   "file_extension": ".jl",
   "mimetype": "application/julia",
   "name": "julia",
   "version": "1.9.4"
  }
 },
 "nbformat": 4,
 "nbformat_minor": 2
}
